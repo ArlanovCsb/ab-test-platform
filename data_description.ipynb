{
 "cells": [
  {
   "cell_type": "code",
   "execution_count": 1,
   "outputs": [],
   "source": [
    "import pandas as pd\n",
    "import numpy as np"
   ],
   "metadata": {
    "collapsed": false,
    "pycharm": {
     "name": "#%%\n"
    }
   }
  },
  {
   "cell_type": "code",
   "execution_count": 99,
   "outputs": [],
   "source": [
    "df_users = pd.read_csv('data/df_users.csv')\n",
    "df_sales = pd.read_csv('data/df_sales.csv')"
   ],
   "metadata": {
    "collapsed": false,
    "pycharm": {
     "name": "#%%\n"
    }
   }
  },
  {
   "cell_type": "markdown",
   "source": [
    "Вам доступны два файла (срез данных, аналогичный тем, что будут в боевом задании, но на несколько порядков меньше в своем размере), на которых вы можете проверить работоспособность своего кода\n",
    "\n",
    "> `users`, который может быть получен с помощью команды <br>\n",
    "> ```df_users = pd.read_csv(os.environ['PATH_DF_USERS'])```\n",
    "\n",
    "> `sales`, который может быть получен с помощью команды <br>\n",
    "> ```df_sales = pd.read_csv(os.environ['PATH_DF_SALES'])```\n",
    "\n",
    "Давайте рассмотрим их отдельно"
   ],
   "metadata": {
    "collapsed": false
   }
  },
  {
   "cell_type": "markdown",
   "source": [
    "> Файл `users` хранит в себе информацию о пользователях. В файле присутствет три колонки\n",
    "\n",
    "> `user_id` – идентификатор пользователя <br>\n",
    "> `gender` – пол пользователя <br>\n",
    "> `age` – возраст пользователя\n",
    "\n",
    "> Например, пользователь с идентификатором `2481878` имеет пол `0`, причем ему `26` лет. Все пользователи в таблице уникальны"
   ],
   "metadata": {
    "collapsed": false
   }
  },
  {
   "cell_type": "code",
   "execution_count": null,
   "outputs": [],
   "source": [
    "users.head(3)"
   ],
   "metadata": {
    "collapsed": false,
    "pycharm": {
     "name": "#%%\n"
    }
   }
  },
  {
   "cell_type": "markdown",
   "source": [
    "> Файл `sales` хранит информацию о покупках пользователей. В файле `sales` присутствет три колонки\n",
    "\n",
    "> `user_id` – идентификатор пользователя <br>\n",
    "> `day` – день, в который была совершена покупка пользователя <br>\n",
    "> `sales` – сумма транзакции, которую совершил пользователь `user_id` в `day`\n",
    "\n",
    "> Например, пользователь с идентификатором `4137940` в день `39` совершил покупку на `276` рублей"
   ],
   "metadata": {
    "collapsed": false
   }
  },
  {
   "cell_type": "code",
   "execution_count": null,
   "outputs": [],
   "source": [
    "sales.head(3)"
   ],
   "metadata": {
    "collapsed": false,
    "pycharm": {
     "name": "#%%\n"
    }
   }
  },
  {
   "cell_type": "markdown",
   "source": [
    "> файлы `users` и `sales` имеют общий ключ `user_id`"
   ],
   "metadata": {
    "collapsed": false
   }
  },
  {
   "cell_type": "code",
   "execution_count": null,
   "outputs": [],
   "source": [
    "sales.info()"
   ],
   "metadata": {
    "collapsed": false,
    "pycharm": {
     "name": "#%%\n"
    }
   }
  },
  {
   "cell_type": "code",
   "execution_count": null,
   "outputs": [],
   "source": [
    "users.info()"
   ],
   "metadata": {
    "collapsed": false,
    "pycharm": {
     "name": "#%%\n"
    }
   }
  },
  {
   "cell_type": "code",
   "execution_count": null,
   "outputs": [],
   "source": [],
   "metadata": {
    "collapsed": false,
    "pycharm": {
     "name": "#%%\n"
    }
   }
  },
  {
   "cell_type": "code",
   "execution_count": 32,
   "outputs": [],
   "source": [
    "from scipy import stats\n",
    "import matplotlib.pyplot as plt\n",
    "import seaborn as sns\n",
    "from tqdm.notebook import tqdm\n",
    "import matplotlib.pyplot as plt\n",
    "import seaborn as sns\n",
    "\n",
    "titlesize = 24\n",
    "labelsize = 22\n",
    "legendsize = 22\n",
    "xticksize = 18\n",
    "yticksize = xticksize\n",
    "\n",
    "plt.rcParams['legend.markerscale'] = 1.5     # the relative size of legend markers vs. original\n",
    "plt.rcParams['legend.handletextpad'] = 0.5\n",
    "plt.rcParams['legend.labelspacing'] = 0.4    # the vertical space between the legend entries in fraction of fontsize\n",
    "plt.rcParams['legend.borderpad'] = 0.5       # border whitespace in fontsize units\n",
    "plt.rcParams['font.size'] = 12\n",
    "plt.rcParams['font.serif'] = 'Times New Roman'\n",
    "plt.rcParams['axes.labelsize'] = labelsize\n",
    "plt.rcParams['axes.titlesize'] = titlesize\n",
    "plt.rcParams['figure.figsize'] = (10, 6)\n",
    "\n",
    "plt.rc('xtick', labelsize=xticksize)\n",
    "plt.rc('ytick', labelsize=yticksize)\n",
    "plt.rc('legend', fontsize=legendsize)\n",
    "\n",
    "\n"
   ],
   "metadata": {
    "collapsed": false,
    "pycharm": {
     "name": "#%%\n"
    }
   }
  },
  {
   "cell_type": "code",
   "execution_count": 4,
   "outputs": [],
   "source": [
    "def reduce_mem_usage(df, verbose=True):\n",
    "    numerics = ['int16', 'int32', 'int64', 'float16', 'float32', 'float64']\n",
    "    start_mem = df.memory_usage().sum() / 1024**2\n",
    "    for col in df.columns:\n",
    "        col_type = df[col].dtypes\n",
    "        if col_type in numerics:\n",
    "            c_min = df[col].min()\n",
    "            c_max = df[col].max()\n",
    "            if str(col_type)[:3] == 'int':\n",
    "                if c_min > np.iinfo(np.int8).min and c_max < np.iinfo(np.int8).max:\n",
    "                    df[col] = df[col].astype(np.int8)\n",
    "                elif c_min > np.iinfo(np.int16).min and c_max < np.iinfo(np.int16).max:\n",
    "                    df[col] = df[col].astype(np.int16)\n",
    "                elif c_min > np.iinfo(np.int32).min and c_max < np.iinfo(np.int32).max:\n",
    "                    df[col] = df[col].astype(np.int32)\n",
    "                elif c_min > np.iinfo(np.int64).min and c_max < np.iinfo(np.int64).max:\n",
    "                    df[col] = df[col].astype(np.int64)\n",
    "            else:\n",
    "                c_prec = df[col].apply(lambda x: np.finfo(x).precision).max()\n",
    "                if c_min > np.finfo(np.float16).min and c_max < np.finfo(np.float16).max and\\\n",
    "                        c_prec == np.finfo(np.float16).precision:\n",
    "                    df[col] = df[col].astype(np.float16)\n",
    "                elif c_min > np.finfo(np.float32).min and c_max < np.finfo(np.float32).max and\\\n",
    "                        c_prec == np.finfo(np.float32).precision:\n",
    "                    df[col] = df[col].astype(np.float32)\n",
    "                else:\n",
    "                    df[col] = df[col].astype(np.float64)\n",
    "    end_mem = df.memory_usage().sum() / 1024**2\n",
    "    if verbose:\n",
    "        print('Mem. usage decreased to {:5.2f} Mb ({:.1f}% reduction)'.format(end_mem, 100 * (start_mem - end_mem) / start_mem))\n",
    "    return df"
   ],
   "metadata": {
    "collapsed": false,
    "pycharm": {
     "name": "#%%\n"
    }
   }
  },
  {
   "cell_type": "code",
   "execution_count": 39,
   "outputs": [],
   "source": [
    "def plot_pvalue_ecdf(pvalues, title=None):\n",
    "    fig, (ax1, ax2) = plt.subplots(1, 2, figsize=(12, 4))\n",
    "\n",
    "    if title:\n",
    "        plt.suptitle(title)\n",
    "\n",
    "    sns.histplot(pvalues, ax=ax1, bins=20, stat='density')\n",
    "    ax1.plot([0,1],[1,1], 'k--')\n",
    "    ax1.set_xlabel('p-value')\n",
    "\n",
    "    sns.ecdfplot(pvalues, ax=ax2)\n",
    "    ax2.set_ylabel('Probability')\n",
    "    ax2.set_xlabel('p-value')\n",
    "    ax2.grid()"
   ],
   "metadata": {
    "collapsed": false,
    "pycharm": {
     "name": "#%%\n"
    }
   }
  },
  {
   "cell_type": "markdown",
   "source": [
    "Проверим наши рассуждения на примере нормального распределения:"
   ],
   "metadata": {
    "collapsed": false
   }
  },
  {
   "cell_type": "code",
   "execution_count": null,
   "outputs": [],
   "source": [
    "def get_pvalue_samples(a_sample_generator, b_sample_generator, size=1000):\n",
    "    pvalues = []\n",
    "    for _ in tqdm(range(size)):\n",
    "        _, p = stats.ttest_ind(a_sample_generator(), b_sample_generator())\n",
    "        pvalues.append(p)\n",
    "    return pvalues\n",
    "\n",
    "pvalues = get_pvalue_samples(\n",
    "    a_sample_generator=lambda: np.random.normal(loc=0, scale=1, size=100),\n",
    "    b_sample_generator=lambda: np.random.normal(loc=0, scale=1, size=100),\n",
    "    size=5000\n",
    ")\n",
    "\n",
    "plot_pvalue_ecdf(pvalues, title='P-value ECDF. Normal distribution')"
   ],
   "metadata": {
    "collapsed": false,
    "pycharm": {
     "name": "#%%\n"
    }
   }
  },
  {
   "cell_type": "code",
   "execution_count": null,
   "outputs": [],
   "source": [
    "def get_pvalue_samples(df, size=250):\n",
    "    pvalues = []\n",
    "    for _ in tqdm(range(size)):\n",
    "        users = df.user_id.unique()\n",
    "        np.random.shuffle(users)\n",
    "        users_len = len(users)\n",
    "        group_a = df[df.user_id.isin(users[:users_len//2])].sales.values\n",
    "        group_b = df[df.user_id.isin(users[users_len//2:])].sales.values\n",
    "        _, p = stats.ttest_ind(group_a, group_b)\n",
    "        pvalues.append(p)\n",
    "    return pvalues"
   ],
   "metadata": {
    "collapsed": false,
    "pycharm": {
     "name": "#%%\n"
    }
   }
  },
  {
   "cell_type": "code",
   "execution_count": null,
   "outputs": [],
   "source": [
    "pvalues = get_pvalue_samples(df_sales)\n",
    "plot_pvalue_ecdf(pvalues, title='P-value ECDF. Normal distribution')"
   ],
   "metadata": {
    "collapsed": false,
    "pycharm": {
     "name": "#%%\n"
    }
   }
  },
  {
   "cell_type": "code",
   "execution_count": null,
   "outputs": [],
   "source": [
    "def check_linearization(a, b):\n",
    "    \"\"\"Проверка гипотезы с помощью линеаризации.\n",
    "\n",
    "    a: List[np.array], список множеств длин сессий пользователей контрольной группы\n",
    "    b: List[np.array], список множеств длин сессий пользователей пилотной группы\n",
    "\n",
    "    return: pvalue и точечную оценку.\n",
    "    \"\"\"\n",
    "    a_x = np.array([np.sum(row) for row in a])\n",
    "    a_y = np.array([len(row) for row in a])\n",
    "    b_x = np.array([np.sum(row) for row in b])\n",
    "    b_y = np.array([len(row) for row in b])\n",
    "    coef = np.sum(a_x) / np.sum(a_y)\n",
    "    a_lin = a_x - coef * a_y\n",
    "    b_lin = b_x - coef * b_y\n",
    "    _, pvalue = stats.ttest_ind(a_lin, b_lin)\n",
    "    delta = np.mean(b_lin) - np.mean(a_lin)\n",
    "    return pvalue, delta"
   ],
   "metadata": {
    "collapsed": false,
    "pycharm": {
     "name": "#%%\n"
    }
   }
  },
  {
   "cell_type": "code",
   "execution_count": null,
   "outputs": [],
   "source": [
    "\n",
    "## Делаем тут\n",
    "\n",
    "1. Линеаризация"
   ],
   "metadata": {
    "collapsed": false,
    "pycharm": {
     "name": "#%%\n"
    }
   }
  },
  {
   "cell_type": "code",
   "execution_count": 3,
   "outputs": [],
   "source": [
    "df_sales = df_sales[\n",
    "    df_sales['day'].isin(np.arange(49, 56))\n",
    "]\n",
    "\n",
    "df_sales = df_sales[\n",
    "    df_sales['sales'] < 5000\n",
    "    ]"
   ],
   "metadata": {
    "collapsed": false,
    "pycharm": {
     "name": "#%%\n"
    }
   }
  },
  {
   "cell_type": "code",
   "execution_count": 7,
   "outputs": [
    {
     "data": {
      "text/plain": "862263"
     },
     "execution_count": 7,
     "metadata": {},
     "output_type": "execute_result"
    }
   ],
   "source": [
    "users_ids = df_sales.user_id.unique()\n",
    "len(users_ids)\n"
   ],
   "metadata": {
    "collapsed": false,
    "pycharm": {
     "name": "#%%\n"
    }
   }
  },
  {
   "cell_type": "code",
   "execution_count": 11,
   "outputs": [
    {
     "data": {
      "text/plain": "array([1643439, 1556229, 5721132, ..., 6071014, 2832754, 9190479],\n      dtype=int64)"
     },
     "execution_count": 11,
     "metadata": {},
     "output_type": "execute_result"
    }
   ],
   "source": [
    "# Рандомно наберем юзеров в 3 группы\n",
    "np.random.seed(42)\n",
    "np.random.shuffle(users_ids)\n",
    "users_ids\n"
   ],
   "metadata": {
    "collapsed": false,
    "pycharm": {
     "name": "#%%\n"
    }
   }
  },
  {
   "cell_type": "code",
   "execution_count": 18,
   "outputs": [],
   "source": [
    "group_a_one = list(users_ids[:len(users_ids)//3])\n",
    "group_a_two = list(users_ids[len(users_ids)//3:len(users_ids)//3*2])\n",
    "group_b = list(users_ids[len(users_ids)//3*2:])\n",
    "\n",
    "user_a = group_a_one + group_a_two\n",
    "user_b = group_b"
   ],
   "metadata": {
    "collapsed": false,
    "pycharm": {
     "name": "#%%\n"
    }
   }
  },
  {
   "cell_type": "code",
   "execution_count": 19,
   "outputs": [
    {
     "data": {
      "text/plain": "(287421, 287421, 287421)"
     },
     "execution_count": 19,
     "metadata": {},
     "output_type": "execute_result"
    }
   ],
   "source": [
    "len(group_a_one), len(group_a_two), len(group_b)\n"
   ],
   "metadata": {
    "collapsed": false,
    "pycharm": {
     "name": "#%%\n"
    }
   }
  },
  {
   "cell_type": "markdown",
   "source": [
    "## можно просуммировать или средний чек, или выручку на 1 клиента.\n",
    "\n",
    "1. Чек"
   ],
   "metadata": {
    "collapsed": false,
    "pycharm": {
     "name": "#%% md\n"
    }
   }
  },
  {
   "cell_type": "code",
   "execution_count": 20,
   "outputs": [
    {
     "data": {
      "text/plain": "user_id\n1000002    1697\n1000013     707\n1000028     507\n1000043    2429\n1000061    2800\n           ... \n9999955     430\n9999957    1884\n9999958    3438\n9999968    5717\n9999973     566\nName: sales, Length: 574842, dtype: int64"
     },
     "execution_count": 20,
     "metadata": {},
     "output_type": "execute_result"
    }
   ],
   "source": [
    "sales_a = df_sales[\n",
    "    df_sales['user_id'].isin(user_a)\n",
    "]\n",
    "a_x = sales_a.groupby('user_id').sales.sum()\n",
    "a_y = sales_a.groupby('user_id').sales.count()\n",
    "a_x"
   ],
   "metadata": {
    "collapsed": false,
    "pycharm": {
     "name": "#%%\n"
    }
   }
  },
  {
   "cell_type": "code",
   "execution_count": 22,
   "outputs": [
    {
     "data": {
      "text/plain": "user_id\n1000002     252.053746\n1000013     225.351249\n1000028      25.351249\n1000043   -1905.838762\n1000061   -3461.433768\n              ...     \n9999955    -533.297503\n9999957   -1005.892508\n9999958     548.107492\n9999968    3308.756243\n9999973      84.351249\nName: sales, Length: 574842, dtype: float64"
     },
     "execution_count": 22,
     "metadata": {},
     "output_type": "execute_result"
    }
   ],
   "source": [
    "coef = np.sum(a_x) / np.sum(a_y)\n",
    "a_lin = a_x - coef * a_y\n",
    "a_lin"
   ],
   "metadata": {
    "collapsed": false,
    "pycharm": {
     "name": "#%%\n"
    }
   }
  },
  {
   "cell_type": "code",
   "execution_count": 23,
   "outputs": [
    {
     "data": {
      "text/plain": "user_id\n1000067    3444\n1000131     500\n1000149    2707\n1000153    3867\n1000155     638\n           ... \n9999767    3152\n9999775     963\n9999803    3821\n9999810    1386\n9999889    2059\nName: sales, Length: 287421, dtype: int64"
     },
     "execution_count": 23,
     "metadata": {},
     "output_type": "execute_result"
    }
   ],
   "source": [
    "sales_b = df_sales[\n",
    "    df_sales['user_id'].isin(user_b)\n",
    "]\n",
    "b_x = sales_b.groupby('user_id').sales.sum()\n",
    "b_y = sales_b.groupby('user_id').sales.count()\n",
    "b_x\n"
   ],
   "metadata": {
    "collapsed": false,
    "pycharm": {
     "name": "#%%\n"
    }
   }
  },
  {
   "cell_type": "code",
   "execution_count": 24,
   "outputs": [
    {
     "data": {
      "text/plain": "user_id\n1000067    1517.404994\n1000131    -463.297503\n1000149    1262.053746\n1000153    1940.404994\n1000155     156.351249\n              ...     \n9999767   -3109.433768\n9999775      -0.297503\n9999803    1894.404994\n9999810     422.702497\n9999889     132.404994\nName: sales, Length: 287421, dtype: float64"
     },
     "execution_count": 24,
     "metadata": {},
     "output_type": "execute_result"
    }
   ],
   "source": [
    "b_lin = b_x - coef * b_y\n",
    "b_lin\n"
   ],
   "metadata": {
    "collapsed": false,
    "pycharm": {
     "name": "#%%\n"
    }
   }
  },
  {
   "cell_type": "code",
   "execution_count": 26,
   "outputs": [
    {
     "data": {
      "text/plain": "         user_id  day  sales  gender  age\n0        3848565   50    902       1   29\n1        3848565   52    832       1   29\n2        3848565   53    430       1   29\n3        3848565   54    420       1   29\n4        5801450   49    256       0   24\n...          ...  ...    ...     ...  ...\n4706352  1403724   52    358       0   23\n4706353  1403724   52    169       0   23\n4706354  1403724   52    140       0   23\n4706355  1403724   53    614       0   23\n4706356  1403724   54    468       0   23\n\n[4706357 rows x 5 columns]",
      "text/html": "<div>\n<style scoped>\n    .dataframe tbody tr th:only-of-type {\n        vertical-align: middle;\n    }\n\n    .dataframe tbody tr th {\n        vertical-align: top;\n    }\n\n    .dataframe thead th {\n        text-align: right;\n    }\n</style>\n<table border=\"1\" class=\"dataframe\">\n  <thead>\n    <tr style=\"text-align: right;\">\n      <th></th>\n      <th>user_id</th>\n      <th>day</th>\n      <th>sales</th>\n      <th>gender</th>\n      <th>age</th>\n    </tr>\n  </thead>\n  <tbody>\n    <tr>\n      <th>0</th>\n      <td>3848565</td>\n      <td>50</td>\n      <td>902</td>\n      <td>1</td>\n      <td>29</td>\n    </tr>\n    <tr>\n      <th>1</th>\n      <td>3848565</td>\n      <td>52</td>\n      <td>832</td>\n      <td>1</td>\n      <td>29</td>\n    </tr>\n    <tr>\n      <th>2</th>\n      <td>3848565</td>\n      <td>53</td>\n      <td>430</td>\n      <td>1</td>\n      <td>29</td>\n    </tr>\n    <tr>\n      <th>3</th>\n      <td>3848565</td>\n      <td>54</td>\n      <td>420</td>\n      <td>1</td>\n      <td>29</td>\n    </tr>\n    <tr>\n      <th>4</th>\n      <td>5801450</td>\n      <td>49</td>\n      <td>256</td>\n      <td>0</td>\n      <td>24</td>\n    </tr>\n    <tr>\n      <th>...</th>\n      <td>...</td>\n      <td>...</td>\n      <td>...</td>\n      <td>...</td>\n      <td>...</td>\n    </tr>\n    <tr>\n      <th>4706352</th>\n      <td>1403724</td>\n      <td>52</td>\n      <td>358</td>\n      <td>0</td>\n      <td>23</td>\n    </tr>\n    <tr>\n      <th>4706353</th>\n      <td>1403724</td>\n      <td>52</td>\n      <td>169</td>\n      <td>0</td>\n      <td>23</td>\n    </tr>\n    <tr>\n      <th>4706354</th>\n      <td>1403724</td>\n      <td>52</td>\n      <td>140</td>\n      <td>0</td>\n      <td>23</td>\n    </tr>\n    <tr>\n      <th>4706355</th>\n      <td>1403724</td>\n      <td>53</td>\n      <td>614</td>\n      <td>0</td>\n      <td>23</td>\n    </tr>\n    <tr>\n      <th>4706356</th>\n      <td>1403724</td>\n      <td>54</td>\n      <td>468</td>\n      <td>0</td>\n      <td>23</td>\n    </tr>\n  </tbody>\n</table>\n<p>4706357 rows × 5 columns</p>\n</div>"
     },
     "execution_count": 26,
     "metadata": {},
     "output_type": "execute_result"
    }
   ],
   "source": [
    "merged = df_sales.merge(df_users, how='left', on='user_id')\n",
    "merged"
   ],
   "metadata": {
    "collapsed": false,
    "pycharm": {
     "name": "#%%\n"
    }
   }
  },
  {
   "cell_type": "code",
   "execution_count": 27,
   "outputs": [
    {
     "data": {
      "text/plain": "(4706357, 3)"
     },
     "execution_count": 27,
     "metadata": {},
     "output_type": "execute_result"
    }
   ],
   "source": [],
   "metadata": {
    "collapsed": false,
    "pycharm": {
     "name": "#%%\n"
    }
   }
  },
  {
   "cell_type": "code",
   "execution_count": 29,
   "outputs": [],
   "source": [
    "def get_lineariz_groups(df, users_ids):\n",
    "    user_a, user_b = get_groups(users_ids)\n",
    "    sales_a = df[\n",
    "        df['user_id'].isin(user_a)\n",
    "    ]\n",
    "    a_x = sales_a.groupby('user_id').sales.sum()\n",
    "    a_y = sales_a.groupby('user_id').sales.count()\n",
    "    coef = np.sum(a_x) / np.sum(a_y)\n",
    "    a_lin = a_x - coef * a_y\n",
    "    sales_b = df[\n",
    "        df['user_id'].isin(user_b)\n",
    "    ]\n",
    "    b_x = sales_b.groupby('user_id').sales.sum()\n",
    "    b_y = sales_b.groupby('user_id').sales.count()\n",
    "    b_lin = b_x - coef * b_y\n",
    "    return a_lin, b_lin"
   ],
   "metadata": {
    "collapsed": false,
    "pycharm": {
     "name": "#%%\n"
    }
   }
  },
  {
   "cell_type": "code",
   "execution_count": 41,
   "outputs": [],
   "source": [
    "\n",
    "def get_pvalue_samples(_df, size=1000):\n",
    "    pvalues = []\n",
    "    for _ in tqdm(range(size)):\n",
    "        group_a, group_b =get_lineariz_groups(df_sales, users_ids)\n",
    "        _, p = stats.ttest_ind(group_a, group_b)\n",
    "        pvalues.append(p)\n",
    "    return pvalues"
   ],
   "metadata": {
    "collapsed": false,
    "pycharm": {
     "name": "#%%\n"
    }
   }
  },
  {
   "cell_type": "code",
   "execution_count": 42,
   "outputs": [
    {
     "data": {
      "text/plain": "  0%|          | 0/1000 [00:00<?, ?it/s]",
      "application/vnd.jupyter.widget-view+json": {
       "version_major": 2,
       "version_minor": 0,
       "model_id": "394a6acc90884335bfcd7d16b414e344"
      }
     },
     "metadata": {},
     "output_type": "display_data"
    }
   ],
   "source": [
    "pvalues = get_pvalue_samples(df_sales)"
   ],
   "metadata": {
    "collapsed": false,
    "pycharm": {
     "name": "#%%\n"
    }
   }
  },
  {
   "cell_type": "code",
   "execution_count": 43,
   "outputs": [
    {
     "data": {
      "text/plain": "<Figure size 864x288 with 2 Axes>",
      "image/png": "[encoded data removed]"
     },
     "metadata": {
      "needs_background": "light"
     },
     "output_type": "display_data"
    }
   ],
   "source": [
    "plot_pvalue_ecdf(pvalues, title='P-value ECDF. Normal distribution')"
   ],
   "metadata": {
    "collapsed": false,
    "pycharm": {
     "name": "#%%\n"
    }
   }
  },
  {
   "cell_type": "code",
   "execution_count": 38,
   "outputs": [
    {
     "data": {
      "text/plain": "[0.6864706801043792,\n 0.2972743071013617,\n 0.3996914862289266,\n 0.6605162821902772,\n 0.9067356268492581,\n 0.06348087115654087,\n 0.24992653478796256,\n 0.7246448482017579,\n 0.048036699739986366,\n 0.596025727239389,\n 0.9616597976980894,\n 0.8128206784548392,\n 0.7417275992130222,\n 0.6997089327582595,\n 0.3344880376704993,\n 0.9375300696733673,\n 0.693533296247793,\n 0.44741007212620987,\n 0.4787918655793686,\n 0.6236668682141944,\n 0.5956595343463291,\n 0.3069746998687772,\n 0.4888854194270348,\n 0.3313791408548512,\n 0.156461907172251,\n 0.5028997948095729,\n 0.3843786196169995,\n 0.09950342220050194,\n 0.04842528884571187,\n 0.7278090991844353,\n 0.4504069413037902,\n 0.24149927940067256,\n 0.3914672096335565,\n 0.5546565595000907,\n 0.3754127578915837,\n 0.40748755457302177,\n 0.6706557629224091,\n 0.15290289858540398,\n 0.36950023968420864,\n 0.042787869168031054,\n 0.3268924380118873,\n 0.11045037357209436,\n 0.03508646212244762,\n 0.08755109256761927,\n 0.5394902635817758,\n 0.28286324700700144,\n 0.8990132178797379,\n 0.6256797337392894,\n 0.1468671963041982,\n 0.43015909126524254,\n 0.5771502175582318,\n 0.8906159535650102,\n 0.5896962662299953,\n 0.523454336906188,\n 0.7226552578864945,\n 0.4607593029174746,\n 0.412431493139518,\n 0.08217889874346089,\n 0.24687532915401528,\n 0.8502535662507611,\n 0.3967189623087377,\n 0.9905592809405419,\n 0.7288702314934594,\n 0.17848254475559497,\n 0.46320980079246,\n 0.48282095770218225,\n 0.37707127723259204,\n 0.7717874920287633,\n 0.5873139781590111,\n 0.3638543701467435,\n 0.16353780122341033,\n 0.9317761614344159,\n 0.35091957490368253,\n 0.8409500112139001,\n 0.6297423507673253,\n 0.5065109668102521,\n 0.8413621902952066,\n 0.10509868968468672,\n 0.505688985659995,\n 0.870750866952511,\n 0.595812980853406,\n 0.07598528624578894,\n 0.2696387868631047,\n 0.6764286981694132,\n 0.41856052815287903,\n 0.22752221789327717,\n 0.5735484700965763,\n 0.6590875582197684,\n 0.8339231187537011,\n 0.08792488859153533,\n 0.5978039725851654,\n 0.16875465453690405,\n 0.7949730992924078,\n 0.10034204886083635,\n 0.039980164342397324,\n 0.8590589023203615,\n 0.6015607853374576,\n 0.050416069118722144,\n 0.7307107314030288,\n 0.7654437423604789,\n 0.4402751239623346,\n 0.5027531744860356,\n 0.4196201521492843,\n 0.29493293940889503,\n 0.9093699987753805,\n 0.493967225734394,\n 0.8408370039765299,\n 0.42764631650166274,\n 0.8651502534328402,\n 0.2590498644748168,\n 0.3888286570427255,\n 0.9367802258322835,\n 0.26444235334491223,\n 9.621893050064747e-05,\n 0.07096678153778643,\n 0.12147341217731254,\n 0.3782889934219731,\n 0.05421503342667098,\n 0.19872919778107648,\n 0.13337508997653494,\n 0.8596099094517053,\n 0.47707980129975613,\n 0.4189793019956033,\n 0.8606060116553149,\n 0.8600106588510197,\n 0.08597732768870817,\n 0.979136543644348,\n 0.49791904128087905,\n 0.15609416312975105,\n 0.6314273843041256,\n 0.5478967834022691,\n 0.2030390926460847,\n 0.9200929601690699,\n 0.8016592747103323,\n 0.8468351482578232,\n 0.2260894434047285,\n 0.38534712230022095,\n 0.5076025584915226,\n 0.8255141482472266,\n 0.42034825379064833,\n 0.7365078820095241,\n 0.15720274817940713,\n 0.002185601552705646,\n 0.07100294213735775,\n 0.7488319171217908,\n 0.8600872487363744,\n 0.2578383361791739,\n 0.5448069319180602,\n 0.40173791205093834,\n 0.1386671407082473,\n 0.9228678900222012,\n 0.1875331396335504,\n 0.79010383965711,\n 0.07209289261968002,\n 0.4334405803322817,\n 0.5046239032708583,\n 0.2361041207568529,\n 0.1801414193816131,\n 0.6959174291727336,\n 0.5766496770833419,\n 0.782256146428796,\n 0.13459577931088937,\n 0.7889020976686052,\n 0.6778623929897973,\n 0.5298138785605633,\n 0.5918926381886138,\n 0.9053776174368922,\n 0.17758263200681423,\n 0.6663326838763546,\n 0.7706718670195555,\n 0.4290920999652873,\n 0.1681232703653373,\n 0.6130388685823928,\n 0.856873934350826,\n 0.43031382454861833,\n 0.1559457133040837,\n 0.25167870467382497,\n 0.7080334368347194,\n 0.020665127250024888,\n 0.9976460923515267,\n 0.11787371185334125,\n 0.08092797502873253,\n 0.6190394292120834,\n 0.14123365457322526,\n 0.5182822427503466,\n 0.626031941288762,\n 0.1631714738772725,\n 0.7688176098136926,\n 0.5724256296408554,\n 0.8558079265985754,\n 0.20252153116580068,\n 0.6431276866007515,\n 0.4453568658116316,\n 0.43049392714813506,\n 0.48444354264881073,\n 0.5119794714780113,\n 0.8731624432615531,\n 0.12386238397126748,\n 0.34397497644065467,\n 0.7744793632905935,\n 0.28602819192923984,\n 0.5230208082130972,\n 0.6121218684256831,\n 0.3523334889645279,\n 0.3747721169503413,\n 0.9999646026627372,\n 0.9576137947979009,\n 0.7393285878877757,\n 0.39767750668972635,\n 0.18317841834095702,\n 0.1820201963975623,\n 0.2571617206063648,\n 0.46706440708600117,\n 0.8796428214430827,\n 0.32552720017917447,\n 0.4623999144928852,\n 0.31485203167943093,\n 0.29335779865427464,\n 0.46319589041568243,\n 0.7272281696864396,\n 0.5621549023821978,\n 0.5547498607685581,\n 0.75074031969188,\n 0.38860805797691667,\n 0.6014448196294093,\n 0.12621406208876457,\n 0.9542776510522798,\n 0.21942382424144932,\n 0.6651410472199476,\n 0.3205507291946004,\n 0.29693552780961235,\n 0.15248742091769318,\n 0.3329999610735661,\n 0.7723331702386136,\n 0.829461322527367,\n 0.41704744277639894,\n 0.07027102953571764,\n 0.11463677111912977,\n 0.19907541100887788,\n 0.6786133482868681,\n 0.6429244675519346,\n 0.8744373144765915,\n 0.9983985825068666,\n 0.2429558752396022,\n 0.01880595835750762,\n 0.847787402087243,\n 0.8304197792344373,\n 0.7843435313850189,\n 0.3112707652039159,\n 0.11683740868681963]"
     },
     "execution_count": 38,
     "metadata": {},
     "output_type": "execute_result"
    }
   ],
   "source": [
    "pvalues"
   ],
   "metadata": {
    "collapsed": false,
    "pycharm": {
     "name": "#%%\n"
    }
   }
  },
  {
   "cell_type": "code",
   "execution_count": 46,
   "outputs": [],
   "source": [
    "def get_groups(users_ids):\n",
    "    np.random.shuffle(users_ids)\n",
    "    group_a_one = list(users_ids[:len(users_ids)//3])\n",
    "    group_a_two = list(users_ids[len(users_ids)//3:len(users_ids)//3*2])\n",
    "    group_b = list(users_ids[len(users_ids)//3*2:])\n",
    "    user_a = group_a_one + group_a_two\n",
    "    user_b = group_b\n",
    "    return user_a, user_b\n"
   ],
   "metadata": {
    "collapsed": false,
    "pycharm": {
     "name": "#%%\n"
    }
   }
  },
  {
   "cell_type": "code",
   "execution_count": 47,
   "outputs": [],
   "source": [
    "def get_users_group(df, users_ids):\n",
    "    user_a, user_b = get_groups(users_ids)\n",
    "    sales_a = df[\n",
    "        df['user_id'].isin(user_a)\n",
    "    ]\n",
    "    a = sales_a.groupby('user_id').sales.sum()\n",
    "    sales_b = df[\n",
    "        df['user_id'].isin(user_b)\n",
    "    ]\n",
    "    b = sales_b.groupby('user_id').sales.sum()\n",
    "    return a, b"
   ],
   "metadata": {
    "collapsed": false,
    "pycharm": {
     "name": "#%%\n"
    }
   }
  },
  {
   "cell_type": "code",
   "execution_count": 50,
   "outputs": [],
   "source": [
    "def get_pvalue_samples(_df, size=1000):\n",
    "    pvalues = []\n",
    "    for _ in tqdm(range(size)):\n",
    "        group_a, group_b = get_users_group(df_sales, users_ids)\n",
    "        _, p = stats.ttest_ind(group_a, group_b)\n",
    "        pvalues.append(p)\n",
    "    return pvalues"
   ],
   "metadata": {
    "collapsed": false,
    "pycharm": {
     "name": "#%%\n"
    }
   }
  },
  {
   "cell_type": "code",
   "execution_count": 51,
   "outputs": [
    {
     "data": {
      "text/plain": "  0%|          | 0/1000 [00:00<?, ?it/s]",
      "application/vnd.jupyter.widget-view+json": {
       "version_major": 2,
       "version_minor": 0,
       "model_id": "86c7b7c283af474b8a69a8245a82ddf7"
      }
     },
     "metadata": {},
     "output_type": "display_data"
    }
   ],
   "source": [
    "pvalues = get_pvalue_samples(df_sales)"
   ],
   "metadata": {
    "collapsed": false,
    "pycharm": {
     "name": "#%%\n"
    }
   }
  },
  {
   "cell_type": "code",
   "execution_count": 53,
   "outputs": [
    {
     "data": {
      "text/plain": "<Figure size 864x288 with 2 Axes>",
      "image/png": "[encoded data removed]"
     },
     "metadata": {
      "needs_background": "light"
     },
     "output_type": "display_data"
    },
    {
     "data": {
      "text/plain": "<Figure size 864x288 with 2 Axes>",
      "image/png": "[encoded data removed]"
     },
     "metadata": {
      "needs_background": "light"
     },
     "output_type": "display_data"
    }
   ],
   "source": [
    "plot_pvalue_ecdf(pvalues, title='P-value ECDF. Normal distribution')"
   ],
   "metadata": {
    "collapsed": false,
    "pycharm": {
     "name": "#%%\n"
    }
   }
  },
  {
   "cell_type": "markdown",
   "source": [
    "2. Стратификация\n"
   ],
   "metadata": {
    "collapsed": false,
    "pycharm": {
     "name": "#%% md\n"
    }
   }
  },
  {
   "cell_type": "code",
   "execution_count": 65,
   "outputs": [],
   "source": [
    "strats = merged.groupby(['gender', 'age']).sales.mean()"
   ],
   "metadata": {
    "collapsed": false,
    "pycharm": {
     "name": "#%%\n"
    }
   }
  },
  {
   "cell_type": "code",
   "execution_count": 55,
   "outputs": [
    {
     "data": {
      "text/plain": "         user_id  day  sales  gender  age\n0        3848565   50    902       1   29\n1        3848565   52    832       1   29\n2        3848565   53    430       1   29\n3        3848565   54    420       1   29\n4        5801450   49    256       0   24\n...          ...  ...    ...     ...  ...\n4706352  1403724   52    358       0   23\n4706353  1403724   52    169       0   23\n4706354  1403724   52    140       0   23\n4706355  1403724   53    614       0   23\n4706356  1403724   54    468       0   23\n\n[4706357 rows x 5 columns]",
      "text/html": "<div>\n<style scoped>\n    .dataframe tbody tr th:only-of-type {\n        vertical-align: middle;\n    }\n\n    .dataframe tbody tr th {\n        vertical-align: top;\n    }\n\n    .dataframe thead th {\n        text-align: right;\n    }\n</style>\n<table border=\"1\" class=\"dataframe\">\n  <thead>\n    <tr style=\"text-align: right;\">\n      <th></th>\n      <th>user_id</th>\n      <th>day</th>\n      <th>sales</th>\n      <th>gender</th>\n      <th>age</th>\n    </tr>\n  </thead>\n  <tbody>\n    <tr>\n      <th>0</th>\n      <td>3848565</td>\n      <td>50</td>\n      <td>902</td>\n      <td>1</td>\n      <td>29</td>\n    </tr>\n    <tr>\n      <th>1</th>\n      <td>3848565</td>\n      <td>52</td>\n      <td>832</td>\n      <td>1</td>\n      <td>29</td>\n    </tr>\n    <tr>\n      <th>2</th>\n      <td>3848565</td>\n      <td>53</td>\n      <td>430</td>\n      <td>1</td>\n      <td>29</td>\n    </tr>\n    <tr>\n      <th>3</th>\n      <td>3848565</td>\n      <td>54</td>\n      <td>420</td>\n      <td>1</td>\n      <td>29</td>\n    </tr>\n    <tr>\n      <th>4</th>\n      <td>5801450</td>\n      <td>49</td>\n      <td>256</td>\n      <td>0</td>\n      <td>24</td>\n    </tr>\n    <tr>\n      <th>...</th>\n      <td>...</td>\n      <td>...</td>\n      <td>...</td>\n      <td>...</td>\n      <td>...</td>\n    </tr>\n    <tr>\n      <th>4706352</th>\n      <td>1403724</td>\n      <td>52</td>\n      <td>358</td>\n      <td>0</td>\n      <td>23</td>\n    </tr>\n    <tr>\n      <th>4706353</th>\n      <td>1403724</td>\n      <td>52</td>\n      <td>169</td>\n      <td>0</td>\n      <td>23</td>\n    </tr>\n    <tr>\n      <th>4706354</th>\n      <td>1403724</td>\n      <td>52</td>\n      <td>140</td>\n      <td>0</td>\n      <td>23</td>\n    </tr>\n    <tr>\n      <th>4706355</th>\n      <td>1403724</td>\n      <td>53</td>\n      <td>614</td>\n      <td>0</td>\n      <td>23</td>\n    </tr>\n    <tr>\n      <th>4706356</th>\n      <td>1403724</td>\n      <td>54</td>\n      <td>468</td>\n      <td>0</td>\n      <td>23</td>\n    </tr>\n  </tbody>\n</table>\n<p>4706357 rows × 5 columns</p>\n</div>"
     },
     "execution_count": 55,
     "metadata": {},
     "output_type": "execute_result"
    }
   ],
   "source": [
    "merged"
   ],
   "metadata": {
    "collapsed": false,
    "pycharm": {
     "name": "#%%\n"
    }
   }
  },
  {
   "cell_type": "code",
   "execution_count": 59,
   "outputs": [],
   "source": [
    "def get_pvalue_samples(_df, size=1000):\n",
    "    pvalues = []\n",
    "    for _ in tqdm(range(size)):\n",
    "        group_a, group_b = get_groups(users_ids)\n",
    "        group_a = _df[_df.user_id.isin(group_a)].sales.values\n",
    "        group_b = _df[_df.user_id.isin(group_b)].sales.values\n",
    "        _, p = stats.ttest_ind(group_a, group_b)\n",
    "        pvalues.append(p)\n",
    "    return pvalues"
   ],
   "metadata": {
    "collapsed": false,
    "pycharm": {
     "name": "#%%\n"
    }
   }
  },
  {
   "cell_type": "code",
   "execution_count": 60,
   "outputs": [
    {
     "data": {
      "text/plain": "  0%|          | 0/1000 [00:00<?, ?it/s]",
      "application/vnd.jupyter.widget-view+json": {
       "version_major": 2,
       "version_minor": 0,
       "model_id": "00ccc22b85cc49a490fe6708c497a1c6"
      }
     },
     "metadata": {},
     "output_type": "display_data"
    }
   ],
   "source": [
    "pvalues = get_pvalue_samples(df_sales)"
   ],
   "metadata": {
    "collapsed": false,
    "pycharm": {
     "name": "#%%\n"
    }
   }
  },
  {
   "cell_type": "code",
   "execution_count": 61,
   "outputs": [
    {
     "data": {
      "text/plain": "<Figure size 864x288 with 2 Axes>",
      "image/png": "[encoded data removed]"
     },
     "metadata": {
      "needs_background": "light"
     },
     "output_type": "display_data"
    }
   ],
   "source": [
    "plot_pvalue_ecdf(pvalues, title='P-value ECDF. Normal distribution')\n"
   ],
   "metadata": {
    "collapsed": false,
    "pycharm": {
     "name": "#%%\n"
    }
   }
  },
  {
   "cell_type": "code",
   "execution_count": 70,
   "outputs": [
    {
     "data": {
      "text/plain": "<AxesSubplot: xlabel='age', ylabel='sales'>"
     },
     "execution_count": 70,
     "metadata": {},
     "output_type": "execute_result"
    },
    {
     "data": {
      "text/plain": "<Figure size 432x288 with 1 Axes>",
      "image/png": "[encoded data removed]"
     },
     "metadata": {
      "needs_background": "light"
     },
     "output_type": "display_data"
    }
   ],
   "source": [
    "sns.lineplot(strats, x='age', y='sales', hue='gender')"
   ],
   "metadata": {
    "collapsed": false,
    "pycharm": {
     "name": "#%%\n"
    }
   }
  },
  {
   "cell_type": "code",
   "execution_count": 69,
   "outputs": [],
   "source": [
    "strats = strats.reset_index()"
   ],
   "metadata": {
    "collapsed": false,
    "pycharm": {
     "name": "#%%\n"
    }
   }
  },
  {
   "cell_type": "code",
   "execution_count": 71,
   "outputs": [
    {
     "data": {
      "text/plain": "88"
     },
     "execution_count": 71,
     "metadata": {},
     "output_type": "execute_result"
    }
   ],
   "source": [
    "len(strats)"
   ],
   "metadata": {
    "collapsed": false,
    "pycharm": {
     "name": "#%%\n"
    }
   }
  },
  {
   "cell_type": "code",
   "execution_count": 72,
   "outputs": [
    {
     "data": {
      "text/plain": "gender\n0    413.747032\n1    472.140079\nName: sales, dtype: float64"
     },
     "execution_count": 72,
     "metadata": {},
     "output_type": "execute_result"
    }
   ],
   "source": [
    "strats.groupby('gender').sales.mean()"
   ],
   "metadata": {
    "collapsed": false,
    "pycharm": {
     "name": "#%%\n"
    }
   }
  },
  {
   "cell_type": "code",
   "execution_count": null,
   "outputs": [],
   "source": [
    "merged.groupby(['gender', 'age']).sales.count() /"
   ],
   "metadata": {
    "collapsed": false,
    "pycharm": {
     "name": "#%%\n"
    }
   }
  },
  {
   "cell_type": "code",
   "execution_count": 73,
   "outputs": [
    {
     "data": {
      "text/plain": "         user_id  day  sales  gender  age\n0        3848565   50    902       1   29\n1        3848565   52    832       1   29\n2        3848565   53    430       1   29\n3        3848565   54    420       1   29\n4        5801450   49    256       0   24\n...          ...  ...    ...     ...  ...\n4706352  1403724   52    358       0   23\n4706353  1403724   52    169       0   23\n4706354  1403724   52    140       0   23\n4706355  1403724   53    614       0   23\n4706356  1403724   54    468       0   23\n\n[4706357 rows x 5 columns]",
      "text/html": "<div>\n<style scoped>\n    .dataframe tbody tr th:only-of-type {\n        vertical-align: middle;\n    }\n\n    .dataframe tbody tr th {\n        vertical-align: top;\n    }\n\n    .dataframe thead th {\n        text-align: right;\n    }\n</style>\n<table border=\"1\" class=\"dataframe\">\n  <thead>\n    <tr style=\"text-align: right;\">\n      <th></th>\n      <th>user_id</th>\n      <th>day</th>\n      <th>sales</th>\n      <th>gender</th>\n      <th>age</th>\n    </tr>\n  </thead>\n  <tbody>\n    <tr>\n      <th>0</th>\n      <td>3848565</td>\n      <td>50</td>\n      <td>902</td>\n      <td>1</td>\n      <td>29</td>\n    </tr>\n    <tr>\n      <th>1</th>\n      <td>3848565</td>\n      <td>52</td>\n      <td>832</td>\n      <td>1</td>\n      <td>29</td>\n    </tr>\n    <tr>\n      <th>2</th>\n      <td>3848565</td>\n      <td>53</td>\n      <td>430</td>\n      <td>1</td>\n      <td>29</td>\n    </tr>\n    <tr>\n      <th>3</th>\n      <td>3848565</td>\n      <td>54</td>\n      <td>420</td>\n      <td>1</td>\n      <td>29</td>\n    </tr>\n    <tr>\n      <th>4</th>\n      <td>5801450</td>\n      <td>49</td>\n      <td>256</td>\n      <td>0</td>\n      <td>24</td>\n    </tr>\n    <tr>\n      <th>...</th>\n      <td>...</td>\n      <td>...</td>\n      <td>...</td>\n      <td>...</td>\n      <td>...</td>\n    </tr>\n    <tr>\n      <th>4706352</th>\n      <td>1403724</td>\n      <td>52</td>\n      <td>358</td>\n      <td>0</td>\n      <td>23</td>\n    </tr>\n    <tr>\n      <th>4706353</th>\n      <td>1403724</td>\n      <td>52</td>\n      <td>169</td>\n      <td>0</td>\n      <td>23</td>\n    </tr>\n    <tr>\n      <th>4706354</th>\n      <td>1403724</td>\n      <td>52</td>\n      <td>140</td>\n      <td>0</td>\n      <td>23</td>\n    </tr>\n    <tr>\n      <th>4706355</th>\n      <td>1403724</td>\n      <td>53</td>\n      <td>614</td>\n      <td>0</td>\n      <td>23</td>\n    </tr>\n    <tr>\n      <th>4706356</th>\n      <td>1403724</td>\n      <td>54</td>\n      <td>468</td>\n      <td>0</td>\n      <td>23</td>\n    </tr>\n  </tbody>\n</table>\n<p>4706357 rows × 5 columns</p>\n</div>"
     },
     "execution_count": 73,
     "metadata": {},
     "output_type": "execute_result"
    }
   ],
   "source": [
    "merged\n"
   ],
   "metadata": {
    "collapsed": false,
    "pycharm": {
     "name": "#%%\n"
    }
   }
  },
  {
   "cell_type": "markdown",
   "source": [
    "## Quped\n"
   ],
   "metadata": {
    "collapsed": false,
    "pycharm": {
     "name": "#%% md\n"
    }
   }
  },
  {
   "cell_type": "code",
   "execution_count": 74,
   "outputs": [
    {
     "data": {
      "text/plain": "array([49, 50, 51, 52, 53, 54, 55])"
     },
     "execution_count": 74,
     "metadata": {},
     "output_type": "execute_result"
    }
   ],
   "source": [
    "np.arange(49, 56)\n"
   ],
   "metadata": {
    "collapsed": false,
    "pycharm": {
     "name": "#%%\n"
    }
   }
  },
  {
   "cell_type": "code",
   "execution_count": 109,
   "outputs": [
    {
     "data": {
      "text/plain": "array([42, 43, 44, 45, 46, 47, 48])"
     },
     "execution_count": 109,
     "metadata": {},
     "output_type": "execute_result"
    }
   ],
   "source": [
    "np.arange(42, 49)"
   ],
   "metadata": {
    "collapsed": false,
    "pycharm": {
     "name": "#%%\n"
    }
   }
  },
  {
   "cell_type": "code",
   "execution_count": 90,
   "outputs": [],
   "source": [
    "um = merged.groupby('user_id', as_index=False).sales.sum()\n"
   ],
   "metadata": {
    "collapsed": false,
    "pycharm": {
     "name": "#%%\n"
    }
   }
  },
  {
   "cell_type": "code",
   "execution_count": 91,
   "outputs": [
    {
     "data": {
      "text/plain": "        user_id  sales\n0       1000002   1697\n1       1000013    707\n2       1000028    507\n3       1000043   2429\n4       1000061   2800\n...         ...    ...\n862258  9999955    430\n862259  9999957   1884\n862260  9999958   3438\n862261  9999968   5717\n862262  9999973    566\n\n[862263 rows x 2 columns]",
      "text/html": "<div>\n<style scoped>\n    .dataframe tbody tr th:only-of-type {\n        vertical-align: middle;\n    }\n\n    .dataframe tbody tr th {\n        vertical-align: top;\n    }\n\n    .dataframe thead th {\n        text-align: right;\n    }\n</style>\n<table border=\"1\" class=\"dataframe\">\n  <thead>\n    <tr style=\"text-align: right;\">\n      <th></th>\n      <th>user_id</th>\n      <th>sales</th>\n    </tr>\n  </thead>\n  <tbody>\n    <tr>\n      <th>0</th>\n      <td>1000002</td>\n      <td>1697</td>\n    </tr>\n    <tr>\n      <th>1</th>\n      <td>1000013</td>\n      <td>707</td>\n    </tr>\n    <tr>\n      <th>2</th>\n      <td>1000028</td>\n      <td>507</td>\n    </tr>\n    <tr>\n      <th>3</th>\n      <td>1000043</td>\n      <td>2429</td>\n    </tr>\n    <tr>\n      <th>4</th>\n      <td>1000061</td>\n      <td>2800</td>\n    </tr>\n    <tr>\n      <th>...</th>\n      <td>...</td>\n      <td>...</td>\n    </tr>\n    <tr>\n      <th>862258</th>\n      <td>9999955</td>\n      <td>430</td>\n    </tr>\n    <tr>\n      <th>862259</th>\n      <td>9999957</td>\n      <td>1884</td>\n    </tr>\n    <tr>\n      <th>862260</th>\n      <td>9999958</td>\n      <td>3438</td>\n    </tr>\n    <tr>\n      <th>862261</th>\n      <td>9999968</td>\n      <td>5717</td>\n    </tr>\n    <tr>\n      <th>862262</th>\n      <td>9999973</td>\n      <td>566</td>\n    </tr>\n  </tbody>\n</table>\n<p>862263 rows × 2 columns</p>\n</div>"
     },
     "execution_count": 91,
     "metadata": {},
     "output_type": "execute_result"
    }
   ],
   "source": [
    "um"
   ],
   "metadata": {
    "collapsed": false,
    "pycharm": {
     "name": "#%%\n"
    }
   }
  },
  {
   "cell_type": "code",
   "execution_count": 98,
   "outputs": [
    {
     "data": {
      "text/plain": "        user_id  sales_x  sales_y\n0       1000002     1697   1697.0\n1       1000013      707    707.0\n2       1000028      507    507.0\n3       1000043     2429   2429.0\n4       1000061     2800   2800.0\n...         ...      ...      ...\n862258  9999955      430      NaN\n862259  9999957     1884      NaN\n862260  9999958     3438      NaN\n862261  9999968     5717      NaN\n862262  9999973      566      NaN\n\n[862263 rows x 3 columns]",
      "text/html": "<div>\n<style scoped>\n    .dataframe tbody tr th:only-of-type {\n        vertical-align: middle;\n    }\n\n    .dataframe tbody tr th {\n        vertical-align: top;\n    }\n\n    .dataframe thead th {\n        text-align: right;\n    }\n</style>\n<table border=\"1\" class=\"dataframe\">\n  <thead>\n    <tr style=\"text-align: right;\">\n      <th></th>\n      <th>user_id</th>\n      <th>sales_x</th>\n      <th>sales_y</th>\n    </tr>\n  </thead>\n  <tbody>\n    <tr>\n      <th>0</th>\n      <td>1000002</td>\n      <td>1697</td>\n      <td>1697.0</td>\n    </tr>\n    <tr>\n      <th>1</th>\n      <td>1000013</td>\n      <td>707</td>\n      <td>707.0</td>\n    </tr>\n    <tr>\n      <th>2</th>\n      <td>1000028</td>\n      <td>507</td>\n      <td>507.0</td>\n    </tr>\n    <tr>\n      <th>3</th>\n      <td>1000043</td>\n      <td>2429</td>\n      <td>2429.0</td>\n    </tr>\n    <tr>\n      <th>4</th>\n      <td>1000061</td>\n      <td>2800</td>\n      <td>2800.0</td>\n    </tr>\n    <tr>\n      <th>...</th>\n      <td>...</td>\n      <td>...</td>\n      <td>...</td>\n    </tr>\n    <tr>\n      <th>862258</th>\n      <td>9999955</td>\n      <td>430</td>\n      <td>NaN</td>\n    </tr>\n    <tr>\n      <th>862259</th>\n      <td>9999957</td>\n      <td>1884</td>\n      <td>NaN</td>\n    </tr>\n    <tr>\n      <th>862260</th>\n      <td>9999958</td>\n      <td>3438</td>\n      <td>NaN</td>\n    </tr>\n    <tr>\n      <th>862261</th>\n      <td>9999968</td>\n      <td>5717</td>\n      <td>NaN</td>\n    </tr>\n    <tr>\n      <th>862262</th>\n      <td>9999973</td>\n      <td>566</td>\n      <td>NaN</td>\n    </tr>\n  </tbody>\n</table>\n<p>862263 rows × 3 columns</p>\n</div>"
     },
     "execution_count": 98,
     "metadata": {},
     "output_type": "execute_result"
    }
   ],
   "source": [
    "um.merge(umt[], how='left', on='user_id')"
   ],
   "metadata": {
    "collapsed": false,
    "pycharm": {
     "name": "#%%\n"
    }
   }
  },
  {
   "cell_type": "code",
   "execution_count": 97,
   "outputs": [
    {
     "data": {
      "text/plain": "    user_id  sales\n0   1000002   1697\n1   1000013    707\n2   1000028    507\n3   1000043   2429\n4   1000061   2800\n..      ...    ...\n95  1001107   4695\n96  1001115   2853\n97  1001117   2109\n98  1001132   3114\n99  1001165   2251\n\n[100 rows x 2 columns]",
      "text/html": "<div>\n<style scoped>\n    .dataframe tbody tr th:only-of-type {\n        vertical-align: middle;\n    }\n\n    .dataframe tbody tr th {\n        vertical-align: top;\n    }\n\n    .dataframe thead th {\n        text-align: right;\n    }\n</style>\n<table border=\"1\" class=\"dataframe\">\n  <thead>\n    <tr style=\"text-align: right;\">\n      <th></th>\n      <th>user_id</th>\n      <th>sales</th>\n    </tr>\n  </thead>\n  <tbody>\n    <tr>\n      <th>0</th>\n      <td>1000002</td>\n      <td>1697</td>\n    </tr>\n    <tr>\n      <th>1</th>\n      <td>1000013</td>\n      <td>707</td>\n    </tr>\n    <tr>\n      <th>2</th>\n      <td>1000028</td>\n      <td>507</td>\n    </tr>\n    <tr>\n      <th>3</th>\n      <td>1000043</td>\n      <td>2429</td>\n    </tr>\n    <tr>\n      <th>4</th>\n      <td>1000061</td>\n      <td>2800</td>\n    </tr>\n    <tr>\n      <th>...</th>\n      <td>...</td>\n      <td>...</td>\n    </tr>\n    <tr>\n      <th>95</th>\n      <td>1001107</td>\n      <td>4695</td>\n    </tr>\n    <tr>\n      <th>96</th>\n      <td>1001115</td>\n      <td>2853</td>\n    </tr>\n    <tr>\n      <th>97</th>\n      <td>1001117</td>\n      <td>2109</td>\n    </tr>\n    <tr>\n      <th>98</th>\n      <td>1001132</td>\n      <td>3114</td>\n    </tr>\n    <tr>\n      <th>99</th>\n      <td>1001165</td>\n      <td>2251</td>\n    </tr>\n  </tbody>\n</table>\n<p>100 rows × 2 columns</p>\n</div>"
     },
     "execution_count": 97,
     "metadata": {},
     "output_type": "execute_result"
    }
   ],
   "source": [
    "umt = um.iloc[:100, :]\n",
    "umt"
   ],
   "metadata": {
    "collapsed": false,
    "pycharm": {
     "name": "#%%\n"
    }
   }
  },
  {
   "cell_type": "code",
   "execution_count": null,
   "outputs": [],
   "source": [
    "df_sales = df_sales[\n",
    "    df_sales['day'].isin(np.arange(49, 56))\n",
    "]\n",
    "\n",
    "# df_sales = df_sales[\n",
    "#     df_sales['sales'] < 5000\n",
    "#     ]"
   ],
   "metadata": {
    "collapsed": false,
    "pycharm": {
     "name": "#%%\n"
    }
   }
  },
  {
   "cell_type": "code",
   "execution_count": 151,
   "outputs": [],
   "source": [
    "df_sales = df_sales[\n",
    "    df_sales['sales'] < 5000\n",
    "    ]\n",
    "\n",
    "df_sales_test = df_sales[\n",
    "    df_sales['day'].isin(np.arange(49, 56))\n",
    "]\n",
    "\n",
    "df_sales_before = df_sales[\n",
    "    df_sales['day'].isin(np.arange(41, 48))\n",
    "]"
   ],
   "metadata": {
    "collapsed": false,
    "pycharm": {
     "name": "#%%\n"
    }
   }
  },
  {
   "cell_type": "code",
   "execution_count": 102,
   "outputs": [],
   "source": [
    "def calculate_theta(y_control, y_pilot, y_control_cov, y_pilot_cov) -> float:\n",
    "    \"\"\"Вычисляем Theta.\n",
    "\n",
    "    y_control - значения метрики во время пилота на контрольной группе\n",
    "    y_pilot - значения метрики во время пилота на пилотной группе\n",
    "    y_control_cov - значения ковариант на контрольной группе\n",
    "    y_pilot_cov - значения ковариант на пилотной группе\n",
    "    \"\"\"\n",
    "    y = np.hstack([y_control, y_pilot])\n",
    "    y_cov = np.hstack([y_control_cov, y_pilot_cov])\n",
    "    covariance = np.cov(y_cov, y)[0, 1]\n",
    "    variance = y_cov.var()\n",
    "    theta = covariance / variance\n",
    "    return theta"
   ],
   "metadata": {
    "collapsed": false,
    "pycharm": {
     "name": "#%%\n"
    }
   }
  },
  {
   "cell_type": "code",
   "execution_count": 103,
   "outputs": [],
   "source": [
    "sales_a = df_sales_test[\n",
    "    df_sales_test['user_id'].isin(user_a)\n",
    "]\n",
    "a = sales_a.groupby('user_id', as_index=False).sales.sum()\n",
    "cov_a = df_sales_before[\n",
    "    df_sales_before['user_id'].isin(user_a)\n",
    "]\n",
    "cov_a = cov_a.groupby('user_id', as_index=False).sales.sum()\n",
    "cov_a.rename(columns={'sales': 'sales_cov'}, inplace=True)\n",
    "a = a.merge(cov_a, how='left', on='user_id')\n",
    "\n",
    "sales_b = df_sales_test[\n",
    "    df_sales_test['user_id'].isin(user_b)\n",
    "]\n",
    "b = sales_b.groupby('user_id', as_index=False).sales.sum()\n",
    "cov_b = df_sales_before[\n",
    "    df_sales_before['user_id'].isin(user_b)\n",
    "]\n",
    "cov_b = cov_b.groupby('user_id', as_index=False).sales.sum()\n",
    "cov_b.rename(columns={'sales': 'sales_cov'}, inplace=True)\n",
    "b = b.merge(cov_b, how='left', on='user_id')\n",
    "y_control = a.sales.values\n",
    "y_control_cov = a.sales_cov.fillna(0).values\n",
    "y_pilot = b.sales.values\n",
    "y_pilot_cov = b.sales_cov.fillna(0).values\n",
    "\n",
    "theta = calculate_theta(y_control, y_pilot, y_control_cov, y_pilot_cov)\n",
    "a_cuped = y_control - theta * y_control_cov\n",
    "b_cuped = y_pilot - theta * y_pilot_cov"
   ],
   "metadata": {
    "collapsed": false,
    "pycharm": {
     "name": "#%%\n"
    }
   }
  },
  {
   "cell_type": "code",
   "execution_count": 107,
   "outputs": [
    {
     "data": {
      "text/plain": "(936.9483876148222, 1381.4215146460701)"
     },
     "execution_count": 107,
     "metadata": {},
     "output_type": "execute_result"
    }
   ],
   "source": [
    "np.std(a_cuped), np.std(y_control)"
   ],
   "metadata": {
    "collapsed": false,
    "pycharm": {
     "name": "#%%\n"
    }
   }
  },
  {
   "cell_type": "code",
   "execution_count": 108,
   "outputs": [
    {
     "data": {
      "text/plain": "(931.4280628086295, 1386.3589500413725)"
     },
     "execution_count": 108,
     "metadata": {},
     "output_type": "execute_result"
    }
   ],
   "source": [
    "np.std(b_cuped), np.std(y_pilot)\n"
   ],
   "metadata": {
    "collapsed": false,
    "pycharm": {
     "name": "#%%\n"
    }
   }
  },
  {
   "cell_type": "code",
   "execution_count": 112,
   "outputs": [
    {
     "data": {
      "text/plain": "        user_id  sales  sales_cov\n22      1000824    387        NaN\n130     1004552    583        NaN\n147     1005153    421        NaN\n176     1006067    517        NaN\n205     1006957    887        NaN\n...         ...    ...        ...\n287169  9991867    776        NaN\n287203  9992954    235        NaN\n287232  9993904    399        NaN\n287352  9997717    378        NaN\n287361  9998007    387        NaN\n\n[8704 rows x 3 columns]",
      "text/html": "<div>\n<style scoped>\n    .dataframe tbody tr th:only-of-type {\n        vertical-align: middle;\n    }\n\n    .dataframe tbody tr th {\n        vertical-align: top;\n    }\n\n    .dataframe thead th {\n        text-align: right;\n    }\n</style>\n<table border=\"1\" class=\"dataframe\">\n  <thead>\n    <tr style=\"text-align: right;\">\n      <th></th>\n      <th>user_id</th>\n      <th>sales</th>\n      <th>sales_cov</th>\n    </tr>\n  </thead>\n  <tbody>\n    <tr>\n      <th>22</th>\n      <td>1000824</td>\n      <td>387</td>\n      <td>NaN</td>\n    </tr>\n    <tr>\n      <th>130</th>\n      <td>1004552</td>\n      <td>583</td>\n      <td>NaN</td>\n    </tr>\n    <tr>\n      <th>147</th>\n      <td>1005153</td>\n      <td>421</td>\n      <td>NaN</td>\n    </tr>\n    <tr>\n      <th>176</th>\n      <td>1006067</td>\n      <td>517</td>\n      <td>NaN</td>\n    </tr>\n    <tr>\n      <th>205</th>\n      <td>1006957</td>\n      <td>887</td>\n      <td>NaN</td>\n    </tr>\n    <tr>\n      <th>...</th>\n      <td>...</td>\n      <td>...</td>\n      <td>...</td>\n    </tr>\n    <tr>\n      <th>287169</th>\n      <td>9991867</td>\n      <td>776</td>\n      <td>NaN</td>\n    </tr>\n    <tr>\n      <th>287203</th>\n      <td>9992954</td>\n      <td>235</td>\n      <td>NaN</td>\n    </tr>\n    <tr>\n      <th>287232</th>\n      <td>9993904</td>\n      <td>399</td>\n      <td>NaN</td>\n    </tr>\n    <tr>\n      <th>287352</th>\n      <td>9997717</td>\n      <td>378</td>\n      <td>NaN</td>\n    </tr>\n    <tr>\n      <th>287361</th>\n      <td>9998007</td>\n      <td>387</td>\n      <td>NaN</td>\n    </tr>\n  </tbody>\n</table>\n<p>8704 rows × 3 columns</p>\n</div>"
     },
     "execution_count": 112,
     "metadata": {},
     "output_type": "execute_result"
    }
   ],
   "source": [
    "b[b.sales_cov.isna()]"
   ],
   "metadata": {
    "collapsed": false,
    "pycharm": {
     "name": "#%%\n"
    }
   }
  },
  {
   "cell_type": "code",
   "execution_count": 124,
   "outputs": [
    {
     "data": {
      "text/plain": "gender  age\n0       17     0.000007\n        18     0.000721\n        19     0.005497\n        20     0.017341\n        21     0.033786\n                 ...   \n1       56     0.000018\n        57     0.000017\n        58     0.000016\n        59     0.000012\n        60     0.000044\nName: user_id, Length: 88, dtype: float64"
     },
     "execution_count": 124,
     "metadata": {},
     "output_type": "execute_result"
    }
   ],
   "source": [
    "stratum = df_users.groupby(['gender', 'age']).user_id.count() / len(df_users)\n",
    "stratum"
   ],
   "metadata": {
    "collapsed": false,
    "pycharm": {
     "name": "#%%\n"
    }
   }
  },
  {
   "cell_type": "code",
   "execution_count": 121,
   "outputs": [
    {
     "data": {
      "text/plain": "gender  age\n0       17         7\n        18       721\n        19      5497\n        20     17341\n        21     33786\n        22     48394\n        23     58519\n        24     61569\n        25     59292\n        26     53528\n        27     46468\n        28     38775\n        29     31965\n        30     25678\n        31     20300\n        32     15636\n        33     12468\n        34      9367\n        35      7240\n        36      5411\n        37      4235\n        38      3230\n        39      2486\n        40      1952\n        41      1401\n        42      1143\n        43       844\n        44       683\n        45       552\n        46       414\n        47       289\n        48       241\n        49       170\n        50       141\n        51       100\n        52        74\n        53        60\n        54        44\n        55        36\n        56        20\n        57        27\n        58        12\n        59        24\n        60        57\nName: user_id, dtype: int64"
     },
     "execution_count": 121,
     "metadata": {},
     "output_type": "execute_result"
    }
   ],
   "source": [
    "stratum.loc[0, :]\n"
   ],
   "metadata": {
    "collapsed": false,
    "pycharm": {
     "name": "#%%\n"
    }
   }
  },
  {
   "cell_type": "code",
   "execution_count": 123,
   "outputs": [
    {
     "data": {
      "text/plain": "gender  age\n1       17        11\n        18       517\n        19      4105\n        20     13049\n        21     25619\n        22     36516\n        23     43880\n        24     46244\n        25     44349\n        26     40105\n        27     35345\n        28     29579\n        29     23854\n        30     19149\n        31     15316\n        32     11843\n        33      9493\n        34      7165\n        35      5561\n        36      4269\n        37      3292\n        38      2453\n        39      1869\n        40      1498\n        41      1134\n        42       783\n        43       611\n        44       483\n        45       407\n        46       321\n        47       206\n        48       156\n        49       156\n        50        81\n        51        98\n        52        53\n        53        52\n        54        37\n        55        37\n        56        18\n        57        17\n        58        16\n        59        12\n        60        44\nName: user_id, dtype: int64"
     },
     "execution_count": 123,
     "metadata": {},
     "output_type": "execute_result"
    }
   ],
   "source": [
    "stratum.loc[1, :]"
   ],
   "metadata": {
    "collapsed": false,
    "pycharm": {
     "name": "#%%\n"
    }
   }
  },
  {
   "cell_type": "code",
   "execution_count": 122,
   "outputs": [
    {
     "data": {
      "text/plain": "    gender  age       sales\n0        0   17  389.272727\n1        0   18  378.327299\n2        0   19  372.502663\n3        0   20  375.615507\n4        0   21  391.129206\n..     ...  ...         ...\n83       1   56  400.621951\n84       1   57  498.081395\n85       1   58  526.079365\n86       1   59  400.722222\n87       1   60  487.831579\n\n[88 rows x 3 columns]",
      "text/html": "<div>\n<style scoped>\n    .dataframe tbody tr th:only-of-type {\n        vertical-align: middle;\n    }\n\n    .dataframe tbody tr th {\n        vertical-align: top;\n    }\n\n    .dataframe thead th {\n        text-align: right;\n    }\n</style>\n<table border=\"1\" class=\"dataframe\">\n  <thead>\n    <tr style=\"text-align: right;\">\n      <th></th>\n      <th>gender</th>\n      <th>age</th>\n      <th>sales</th>\n    </tr>\n  </thead>\n  <tbody>\n    <tr>\n      <th>0</th>\n      <td>0</td>\n      <td>17</td>\n      <td>389.272727</td>\n    </tr>\n    <tr>\n      <th>1</th>\n      <td>0</td>\n      <td>18</td>\n      <td>378.327299</td>\n    </tr>\n    <tr>\n      <th>2</th>\n      <td>0</td>\n      <td>19</td>\n      <td>372.502663</td>\n    </tr>\n    <tr>\n      <th>3</th>\n      <td>0</td>\n      <td>20</td>\n      <td>375.615507</td>\n    </tr>\n    <tr>\n      <th>4</th>\n      <td>0</td>\n      <td>21</td>\n      <td>391.129206</td>\n    </tr>\n    <tr>\n      <th>...</th>\n      <td>...</td>\n      <td>...</td>\n      <td>...</td>\n    </tr>\n    <tr>\n      <th>83</th>\n      <td>1</td>\n      <td>56</td>\n      <td>400.621951</td>\n    </tr>\n    <tr>\n      <th>84</th>\n      <td>1</td>\n      <td>57</td>\n      <td>498.081395</td>\n    </tr>\n    <tr>\n      <th>85</th>\n      <td>1</td>\n      <td>58</td>\n      <td>526.079365</td>\n    </tr>\n    <tr>\n      <th>86</th>\n      <td>1</td>\n      <td>59</td>\n      <td>400.722222</td>\n    </tr>\n    <tr>\n      <th>87</th>\n      <td>1</td>\n      <td>60</td>\n      <td>487.831579</td>\n    </tr>\n  </tbody>\n</table>\n<p>88 rows × 3 columns</p>\n</div>"
     },
     "execution_count": 122,
     "metadata": {},
     "output_type": "execute_result"
    }
   ],
   "source": [
    "strats"
   ],
   "metadata": {
    "collapsed": false,
    "pycharm": {
     "name": "#%%\n"
    }
   }
  },
  {
   "cell_type": "code",
   "execution_count": 155,
   "outputs": [
    {
     "data": {
      "text/plain": "(60, 17)"
     },
     "execution_count": 155,
     "metadata": {},
     "output_type": "execute_result"
    }
   ],
   "source": [
    "df_users.age.max(), df_users.age.min()"
   ],
   "metadata": {
    "collapsed": false,
    "pycharm": {
     "name": "#%%\n"
    }
   }
  },
  {
   "cell_type": "code",
   "execution_count": 156,
   "outputs": [
    {
     "data": {
      "text/plain": "array([15, 25, 35, 45, 55, 65])"
     },
     "execution_count": 156,
     "metadata": {},
     "output_type": "execute_result"
    }
   ],
   "source": [
    "bins = np.linspace(15, 65, 6).astype(int)\n",
    "bins"
   ],
   "metadata": {
    "collapsed": false,
    "pycharm": {
     "name": "#%%\n"
    }
   }
  },
  {
   "cell_type": "code",
   "execution_count": 157,
   "outputs": [],
   "source": [
    "df_users['age_bin'] = pd.cut(df_users.age, bins=bins)\n"
   ],
   "metadata": {
    "collapsed": false,
    "pycharm": {
     "name": "#%%\n"
    }
   }
  },
  {
   "cell_type": "code",
   "execution_count": 158,
   "outputs": [],
   "source": [
    "stratum = df_users.groupby(['gender', 'age_bin']).user_id.count() / len(df_users)"
   ],
   "metadata": {
    "collapsed": false,
    "pycharm": {
     "name": "#%%\n"
    }
   }
  },
  {
   "cell_type": "code",
   "execution_count": 159,
   "outputs": [
    {
     "data": {
      "text/plain": "gender  age_bin \n0       (15, 25]    0.285126\n        (25, 35]    0.261425\n        (35, 45]    0.021937\n        (45, 55]    0.001569\n        (55, 65]    0.000140\n1       (15, 25]    0.214290\n        (25, 35]    0.197410\n        (35, 45]    0.016799\n        (45, 55]    0.001197\n        (55, 65]    0.000107\nName: user_id, dtype: float64"
     },
     "execution_count": 159,
     "metadata": {},
     "output_type": "execute_result"
    }
   ],
   "source": [
    "stratum"
   ],
   "metadata": {
    "collapsed": false,
    "pycharm": {
     "name": "#%%\n"
    }
   }
  },
  {
   "cell_type": "code",
   "execution_count": 139,
   "outputs": [
    {
     "data": {
      "text/plain": "[(20, 30], (30, 40], (10, 20], (40, 50], (50, 60]]\nCategories (5, interval[int64]): [(10, 20] < (20, 30] < (30, 40] < (40, 50] < (50, 60]]"
     },
     "execution_count": 139,
     "metadata": {},
     "output_type": "execute_result"
    }
   ],
   "source": [
    "df_users.age_bin.unique()"
   ],
   "metadata": {
    "collapsed": false,
    "pycharm": {
     "name": "#%%\n"
    }
   }
  },
  {
   "cell_type": "code",
   "execution_count": 140,
   "outputs": [
    {
     "data": {
      "text/plain": "0.9999999999999999"
     },
     "execution_count": 140,
     "metadata": {},
     "output_type": "execute_result"
    }
   ],
   "source": [
    "stratum.sum()"
   ],
   "metadata": {
    "collapsed": false,
    "pycharm": {
     "name": "#%%\n"
    }
   }
  },
  {
   "cell_type": "code",
   "execution_count": 152,
   "outputs": [
    {
     "data": {
      "text/plain": "1318.0637410558022"
     },
     "execution_count": 152,
     "metadata": {},
     "output_type": "execute_result"
    }
   ],
   "source": [
    "(df_sales_test.groupby('user_id', as_index=False).sales.sum().\\\n",
    "merge(df_users[['user_id', 'gender', 'age_bin']], how='left', on='user_id').\\\n",
    "groupby(['gender', 'age_bin']).sales.std() * stratum).sum()"
   ],
   "metadata": {
    "collapsed": false,
    "pycharm": {
     "name": "#%%\n"
    }
   }
  },
  {
   "cell_type": "code",
   "execution_count": 153,
   "outputs": [
    {
     "data": {
      "text/plain": "1331.9731537015923"
     },
     "execution_count": 153,
     "metadata": {},
     "output_type": "execute_result"
    }
   ],
   "source": [
    "df_sales_test.groupby('user_id', as_index=False).sales.sum().sales.std()"
   ],
   "metadata": {
    "collapsed": false,
    "pycharm": {
     "name": "#%%\n"
    }
   }
  },
  {
   "cell_type": "code",
   "execution_count": 162,
   "outputs": [
    {
     "data": {
      "text/plain": "1303.823552801492"
     },
     "execution_count": 162,
     "metadata": {},
     "output_type": "execute_result"
    }
   ],
   "source": [
    "(df_sales_test.groupby('user_id', as_index=False).sales.sum().\n",
    " merge(df_users[['user_id', 'gender', 'age_bin']], how='left', on='user_id').\n",
    " groupby(['gender', 'age_bin']).sales.std() * stratum).sum()"
   ],
   "metadata": {
    "collapsed": false,
    "pycharm": {
     "name": "#%%\n"
    }
   }
  }
 ],
 "metadata": {
  "kernelspec": {
   "display_name": "Python 3",
   "language": "python",
   "name": "python3"
  },
  "language_info": {
   "codemirror_mode": {
    "name": "ipython",
    "version": 3
   },
   "file_extension": ".py",
   "mimetype": "text/x-python",
   "name": "python",
   "nbconvert_exporter": "python",
   "pygments_lexer": "ipython3",
   "version": "3.7.6"
  }
 },
 "nbformat": 4,
 "nbformat_minor": 4
}