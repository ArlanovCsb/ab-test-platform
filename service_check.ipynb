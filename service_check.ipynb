{
 "cells": [
  {
   "cell_type": "code",
   "execution_count": 3,
   "metadata": {
    "collapsed": true
   },
   "outputs": [],
   "source": [
    "import os\n",
    "import json\n",
    "import time\n",
    "from typing import List, Tuple, Optional\n",
    "\n",
    "import numpy as np\n",
    "import pandas as pd\n",
    "from scipy.stats import ttest_ind, norm\n",
    "from flask import Flask, jsonify, request\n",
    "\n",
    "# получить данные о пользователях и их покупках\n",
    "df_users = pd.read_csv('data/df_users.csv')\n",
    "df_sales = pd.read_csv('data/df_sales.csv')\n",
    "\n",
    "df_sales = df_sales[\n",
    "    df_sales['sales'] < 5000\n",
    "    ]\n",
    "\n",
    "# эксперимент проводился с 49 до 55 день включительно\n",
    "df_sales_test = df_sales[\n",
    "    df_sales['day'].isin(np.arange(49, 56))\n",
    "]\n",
    "\n",
    "df_sales_before = df_sales[\n",
    "    df_sales['day'].isin(np.arange(28, 49))\n",
    "]"
   ]
  },
  {
   "cell_type": "code",
   "execution_count": 11,
   "outputs": [],
   "source": [
    "# получим страты\n",
    "bins = np.linspace(15, 65, 6).astype(int)\n",
    "df_users['age_bin'] = pd.cut(df_users.age, bins=bins)\n",
    "stratum = df_users.groupby(['gender', 'age_bin']).user_id.count() / len(df_users)\n",
    "\n",
    "app = Flask(__name__)\n",
    "\n",
    "\n",
    "@app.route('/ping')\n",
    "def ping():\n",
    "    return jsonify(status='ok')\n",
    "\n",
    "\n",
    "@app.route('/check_test', methods=['POST'])\n",
    "def check_test():\n",
    "    test = json.loads(request.json)['test']\n",
    "    has_effect = _check_test(test, True)\n",
    "    return jsonify(has_effect=int(has_effect))\n",
    "\n",
    "\n",
    "def _check_test(test, is_ratio=False):\n",
    "    group_a_one = test['group_a_one']\n",
    "    group_a_two = test['group_a_two']\n",
    "    group_b = test['group_b']\n",
    "\n",
    "    user_a = group_a_one + group_a_two\n",
    "    user_b = group_b\n",
    "\n",
    "    pvalue = calculate_p_value(df_sales_test, df_sales_before, group_a_one, group_a_two, is_ratio)\n",
    "    if pvalue < 0.05:\n",
    "        return False\n",
    "    pvalue = calculate_p_value(df_sales_test, df_sales_before, user_a, user_b, is_ratio)\n",
    "\n",
    "    return pvalue < 0.05\n",
    "\n",
    "\n",
    "def calculate_p_value(df_test: pd.DataFrame, df_before: pd.DataFrame, user_a_list: List, user_b_list: List,\n",
    "                      is_ratio: bool):\n",
    "    if is_ratio:\n",
    "        a, coef = calculate_linearization_metric(df_test, user_a_list, 'user_id', 'sales')\n",
    "        a_before, coef_before = calculate_linearization_metric(df_before, user_a_list, 'user_id', 'sales')\n",
    "        b, _ = calculate_linearization_metric(df_test, user_b_list, 'user_id', 'sales', coef)\n",
    "        b_before, _ = calculate_linearization_metric(df_before, user_b_list, 'user_id', 'sales', coef_before)\n",
    "    else:\n",
    "        a = calculate_users_metric(df_test, user_a_list, 'user_id', 'sales')\n",
    "        a_before = calculate_users_metric(df_before, user_a_list, 'user_id', 'sales')\n",
    "        b = calculate_users_metric(df_test, user_b_list, 'user_id', 'sales')\n",
    "        b_before = calculate_users_metric(df_before, user_b_list, 'user_id', 'sales')\n",
    "\n",
    "    a = get_covariate_df(a, a_before, 'user_id', 'sales', 'sales_cov')\n",
    "    b = get_covariate_df(b, b_before, 'user_id', 'sales', 'sales_cov')\n",
    "\n",
    "    a['sales_cuped'], b['sales_cuped'] = calculate_quped_metric(a, b, 'sales', 'sales_cov')\n",
    "\n",
    "    a_mean, a_var = calculate_stratified_metrics(a, 'user_id', 'sales_cuped', ['gender', 'age_bin'], stratum)\n",
    "    b_mean, b_var = calculate_stratified_metrics(b, 'user_id', 'sales_cuped', ['gender', 'age_bin'], stratum)\n",
    "\n",
    "    delta = a_mean - b_mean\n",
    "    std = np.sqrt(a_var / len(a) + b_var / len(b))\n",
    "    statistic = delta / std\n",
    "    return (1 - norm.cdf(np.abs(statistic))) * 2\n",
    "\n",
    "\n",
    "def calculate_theta(y_control, y_pilot, y_control_cov, y_pilot_cov) -> float:\n",
    "    \"\"\"Вычисляем Theta.\n",
    "\n",
    "    y_control - значения метрики во время пилота на контрольной группе\n",
    "    y_pilot - значения метрики во время пилота на пилотной группе\n",
    "    y_control_cov - значения ковариант на контрольной группе\n",
    "    y_pilot_cov - значения ковариант на пилотной группе\n",
    "    \"\"\"\n",
    "    y = np.hstack([y_control, y_pilot])\n",
    "    y_cov = np.hstack([y_control_cov, y_pilot_cov])\n",
    "    covariance = np.cov(y_cov, y)[0, 1]\n",
    "    variance = y_cov.var()\n",
    "    theta = covariance / variance\n",
    "    return theta\n",
    "\n",
    "\n",
    "def calculate_users_metric(df: pd.DataFrame, user_list: List, user_column: str, metric_name: str) -> pd.DataFrame:\n",
    "    sales = df[\n",
    "        df[user_column].isin(user_list)\n",
    "    ].copy()\n",
    "    result = sales.groupby(user_column, as_index=False)[metric_name].sum()\n",
    "    return result\n",
    "\n",
    "\n",
    "def get_covariate_df(df, df_before, user_column: str, metric_name, renamed_metric_name: str)\\\n",
    "        -> pd.DataFrame:\n",
    "    df_before.rename(columns={metric_name: renamed_metric_name}, inplace=True)\n",
    "    df = df.merge(df_before, how='left', on=user_column)\n",
    "    return df\n",
    "\n",
    "\n",
    "def calculate_quped_metric(a: pd.DataFrame, b: pd.DataFrame, metric_name: str, cov_metric_name: str)\\\n",
    "        -> Tuple[np.array, np.array]:\n",
    "    y_control = a[metric_name].values\n",
    "    y_control_cov = a[cov_metric_name].fillna(0).values\n",
    "    y_pilot = b[metric_name].values\n",
    "    y_pilot_cov = b[cov_metric_name].fillna(0).values\n",
    "\n",
    "    theta = calculate_theta(y_control, y_pilot, y_control_cov, y_pilot_cov)\n",
    "    a_cuped = y_control - theta * y_control_cov\n",
    "    b_cuped = y_pilot - theta * y_pilot_cov\n",
    "    return a_cuped, b_cuped\n",
    "\n",
    "\n",
    "def calculate_stratified_metrics(df: pd.DataFrame, user_column: str, metric_name: str, stratified_columns: List,\n",
    "                                 stratum: pd.Series):\n",
    "    df = df.merge(df_users, how='left', on=user_column)\n",
    "    avg = (df.groupby(stratified_columns)[metric_name].mean() * stratum).sum()\n",
    "    var = (df.groupby(stratified_columns)[metric_name].var() * stratum).sum()\n",
    "    return avg, var\n",
    "\n",
    "\n",
    "def calculate_linearization_metric(df: pd.DataFrame, user_list: List, user_column: str, metric_name: str,\n",
    "                                   coef: Optional[float] = None) -> Tuple[pd.DataFrame, float]:\n",
    "    sales = df[\n",
    "        df[user_column].isin(user_list)\n",
    "    ].copy()\n",
    "    x = sales.groupby(user_column)[metric_name].sum()\n",
    "    y = sales.groupby(user_column)[metric_name].count()\n",
    "    if coef is None:\n",
    "        coef = np.sum(x) / np.sum(y)\n",
    "    lin = x - coef * y\n",
    "    lin = lin.reset_index()\n",
    "    lin.columns = [user_column, metric_name]\n",
    "    return lin, coef\n"
   ],
   "metadata": {
    "collapsed": false,
    "pycharm": {
     "name": "#%%\n"
    }
   }
  },
  {
   "cell_type": "code",
   "execution_count": 12,
   "outputs": [],
   "source": [
    "users_ids = df_sales_test.user_id.unique()\n",
    "users_ids = users_ids[:len(users_ids)//2]\n",
    "\n"
   ],
   "metadata": {
    "collapsed": false,
    "pycharm": {
     "name": "#%%\n"
    }
   }
  },
  {
   "cell_type": "code",
   "execution_count": 13,
   "outputs": [
    {
     "data": {
      "text/plain": "array([6632480, 4434492, 9286092, ..., 3344569, 9147153, 7457058],\n      dtype=int64)"
     },
     "execution_count": 13,
     "metadata": {},
     "output_type": "execute_result"
    }
   ],
   "source": [
    "# Рандомно наберем юзеров в 3 группы\n",
    "np.random.seed(42)\n",
    "np.random.shuffle(users_ids)\n",
    "users_ids"
   ],
   "metadata": {
    "collapsed": false,
    "pycharm": {
     "name": "#%%\n"
    }
   }
  },
  {
   "cell_type": "code",
   "execution_count": 14,
   "outputs": [],
   "source": [
    "group_a_one = list(users_ids[:len(users_ids)//3])\n",
    "group_a_two = list(users_ids[len(users_ids)//3:len(users_ids)//3*2])\n",
    "group_b = list(users_ids[len(users_ids)//3*2:])\n"
   ],
   "metadata": {
    "collapsed": false,
    "pycharm": {
     "name": "#%%\n"
    }
   }
  },
  {
   "cell_type": "code",
   "execution_count": 15,
   "outputs": [],
   "source": [
    "ttest = {'group_a_one': group_a_one,\n",
    "         'group_a_two': group_a_two,\n",
    "         'group_b': group_b}\n"
   ],
   "metadata": {
    "collapsed": false,
    "pycharm": {
     "name": "#%%\n"
    }
   }
  },
  {
   "cell_type": "code",
   "execution_count": 23,
   "outputs": [
    {
     "name": "stdout",
     "output_type": "stream",
     "text": [
      "Wall time: 2.11 s\n"
     ]
    },
    {
     "data": {
      "text/plain": "False"
     },
     "execution_count": 23,
     "metadata": {},
     "output_type": "execute_result"
    }
   ],
   "source": [
    "%%time\n",
    "res = _check_test(ttest, True)\n",
    "res"
   ],
   "metadata": {
    "collapsed": false,
    "pycharm": {
     "name": "#%%\n"
    }
   }
  },
  {
   "cell_type": "code",
   "execution_count": 26,
   "outputs": [],
   "source": [
    "from tqdm.notebook import tqdm\n",
    "\n",
    "\n",
    "def get_pvalue_samples(size=100):\n",
    "    pvalues = []\n",
    "    for _ in tqdm(range(size)):\n",
    "        np.random.shuffle(users_ids)\n",
    "        group_a_one = list(users_ids[:len(users_ids)//3])\n",
    "        group_a_two = list(users_ids[len(users_ids)//3:len(users_ids)//3*2])\n",
    "        group_b = list(users_ids[len(users_ids)//3*2:])\n",
    "        ttest = {'group_a_one': group_a_one,\n",
    "                 'group_a_two': group_a_two,\n",
    "                 'group_b': group_b}\n",
    "        p = _check_test(ttest, is_ratio=True)\n",
    "        pvalues.append(p)\n",
    "    return pvalues"
   ],
   "metadata": {
    "collapsed": false,
    "pycharm": {
     "name": "#%%\n"
    }
   }
  },
  {
   "cell_type": "code",
   "execution_count": 27,
   "outputs": [
    {
     "data": {
      "text/plain": "  0%|          | 0/100 [00:00<?, ?it/s]",
      "application/vnd.jupyter.widget-view+json": {
       "version_major": 2,
       "version_minor": 0,
       "model_id": "496e7412a903456588765c84aed80b70"
      }
     },
     "metadata": {},
     "output_type": "display_data"
    }
   ],
   "source": [
    "pv = get_pvalue_samples()\n"
   ],
   "metadata": {
    "collapsed": false,
    "pycharm": {
     "name": "#%%\n"
    }
   }
  }
 ],
 "metadata": {
  "kernelspec": {
   "display_name": "Python 3",
   "language": "python",
   "name": "python3"
  },
  "language_info": {
   "codemirror_mode": {
    "name": "ipython",
    "version": 2
   },
   "file_extension": ".py",
   "mimetype": "text/x-python",
   "name": "python",
   "nbconvert_exporter": "python",
   "pygments_lexer": "ipython2",
   "version": "2.7.6"
  }
 },
 "nbformat": 4,
 "nbformat_minor": 0
}